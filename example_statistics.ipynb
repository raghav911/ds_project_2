{
 "metadata": {
  "language_info": {
   "codemirror_mode": {
    "name": "ipython",
    "version": 3
   },
   "file_extension": ".py",
   "mimetype": "text/x-python",
   "name": "python",
   "nbconvert_exporter": "python",
   "pygments_lexer": "ipython3",
   "version": "3.8.5-final"
  },
  "orig_nbformat": 2,
  "kernelspec": {
   "name": "python3",
   "display_name": "Python 3.8.5 64-bit ('voter-fraud': conda)",
   "metadata": {
    "interpreter": {
     "hash": "a0f90dcbb54bea4e60f894f8fd1d686cc0f74395b4029405cc9f13e0b975e641"
    }
   }
  }
 },
 "nbformat": 4,
 "nbformat_minor": 2,
 "cells": [
  {
   "cell_type": "code",
   "execution_count": 72,
   "metadata": {},
   "outputs": [],
   "source": [
    "import pandas as pd\n",
    "import numpy as np\n",
    "import os"
   ]
  },
  {
   "cell_type": "code",
   "execution_count": 73,
   "metadata": {},
   "outputs": [],
   "source": [
    "def load_chunks(directory):\n",
    "    chunk_dfs = []\n",
    "    for name in sorted(os.listdir(directory)):\n",
    "        sub_directory = os.path.join(directory, name)\n",
    "        if os.path.isdir(sub_directory):\n",
    "            for filename in sorted(os.listdir(sub_directory)):\n",
    "                with open(os.path.join(sub_directory, filename), \"r\", encoding=\"utf-8\") as f:\n",
    "                    chunk = pd.read_csv(f, encoding = \"utf-8\")\n",
    "                    chunk_dfs.append(chunk)\n",
    "        elif name.endswith(\".csv\"):\n",
    "            chunk = pd.read_csv(os.path.join(directory, name), encoding = \"utf-8\")\n",
    "            chunk_dfs.append(chunk)\n",
    "\n",
    "    return pd.concat(chunk_dfs)"
   ]
  },
  {
   "source": [
    "## Tweets"
   ],
   "cell_type": "markdown",
   "metadata": {}
  },
  {
   "cell_type": "code",
   "execution_count": 74,
   "metadata": {},
   "outputs": [
    {
     "output_type": "stream",
     "name": "stdout",
     "text": [
      "<class 'pandas.core.frame.DataFrame'>\nInt64Index: 7603103 entries, 1319685030826938369 to 1339195780704382980\nData columns (total 16 columns):\n #   Column                            Dtype  \n---  ------                            -----  \n 0   user_community                    float64\n 1   user_active_status                object \n 2   retweet_count_metadata            int64  \n 3   quote_count_metadata              int64  \n 4   retweet_count_by_community_0      int64  \n 5   quote_count_by_community_0        int64  \n 6   retweet_count_by_community_1      int64  \n 7   quote_count_by_community_1        int64  \n 8   retweet_count_by_community_2      int64  \n 9   quote_count_by_community_2        int64  \n 10  retweet_count_by_community_3      int64  \n 11  quote_count_by_community_3        int64  \n 12  retweet_count_by_community_4      int64  \n 13  quote_count_by_community_4        int64  \n 14  retweet_count_by_suspended_users  int64  \n 15  quote_count_by_suspended_users    int64  \ndtypes: float64(1), int64(14), object(1)\nmemory usage: 986.1+ MB\n"
     ]
    }
   ],
   "source": [
    "df_tweets = load_chunks(\"./data/tweets/\").set_index(\"tweet_id\")\n",
    "df_tweets.info()"
   ]
  },
  {
   "cell_type": "code",
   "execution_count": 94,
   "metadata": {},
   "outputs": [
    {
     "output_type": "stream",
     "name": "stdout",
     "text": [
      "Number of tweets 7,603,103\n"
     ]
    }
   ],
   "source": [
    "print(\"Number of tweets {:,}\".format(df_tweets.shape[0]))"
   ]
  },
  {
   "cell_type": "code",
   "execution_count": 76,
   "metadata": {},
   "outputs": [
    {
     "output_type": "execute_result",
     "data": {
      "text/plain": [
       "                     user_community user_active_status  \\\n",
       "tweet_id                                                 \n",
       "1324357146088267777             0.0             active   \n",
       "1324420619539271680             0.0             active   \n",
       "1332352538855747584             1.0          suspended   \n",
       "1338871862315667456             1.0          suspended   \n",
       "1330148622898515969             1.0          suspended   \n",
       "1336811823232921600             1.0          suspended   \n",
       "1325432465415163904             1.0          suspended   \n",
       "1332317394165968899             1.0          suspended   \n",
       "1327750127679889409             1.0          suspended   \n",
       "1337745268591259648             1.0          suspended   \n",
       "\n",
       "                     retweet_count_metadata  quote_count_metadata  \\\n",
       "tweet_id                                                            \n",
       "1324357146088267777                  205823                  8271   \n",
       "1324420619539271680                  149829                  9116   \n",
       "1332352538855747584                   91902                 27139   \n",
       "1338871862315667456                   79140                 14591   \n",
       "1330148622898515969                   78904                 13190   \n",
       "1336811823232921600                   76171                 14055   \n",
       "1325432465415163904                   75385                 13632   \n",
       "1332317394165968899                   73664                  9768   \n",
       "1327750127679889409                   71054                 11185   \n",
       "1337745268591259648                   66741                 54083   \n",
       "\n",
       "                     retweet_count_by_community_0  quote_count_by_community_0  \\\n",
       "tweet_id                                                                        \n",
       "1324357146088267777                         38097                         386   \n",
       "1324420619539271680                         21819                         340   \n",
       "1332352538855747584                           267                        3891   \n",
       "1338871862315667456                           243                        2565   \n",
       "1330148622898515969                           308                        1727   \n",
       "1336811823232921600                           195                         761   \n",
       "1325432465415163904                           168                         617   \n",
       "1332317394165968899                           141                         318   \n",
       "1327750127679889409                           224                        1666   \n",
       "1337745268591259648                           211                        3043   \n",
       "\n",
       "                     retweet_count_by_community_1  quote_count_by_community_1  \\\n",
       "tweet_id                                                                        \n",
       "1324357146088267777                            28                          25   \n",
       "1324420619539271680                            17                          30   \n",
       "1332352538855747584                         13600                        1653   \n",
       "1338871862315667456                         15765                        1346   \n",
       "1330148622898515969                         12798                         766   \n",
       "1336811823232921600                         16194                        1814   \n",
       "1325432465415163904                          6437                         434   \n",
       "1332317394165968899                         11602                        1109   \n",
       "1327750127679889409                         12062                         892   \n",
       "1337745268591259648                         13964                        6612   \n",
       "\n",
       "                     retweet_count_by_community_2  quote_count_by_community_2  \\\n",
       "tweet_id                                                                        \n",
       "1324357146088267777                            20                          15   \n",
       "1324420619539271680                            50                          35   \n",
       "1332352538855747584                         26685                        5535   \n",
       "1338871862315667456                         38812                        5010   \n",
       "1330148622898515969                         28892                        2852   \n",
       "1336811823232921600                         29451                        5575   \n",
       "1325432465415163904                         13040                        1839   \n",
       "1332317394165968899                         25945                        3525   \n",
       "1327750127679889409                         29032                        3533   \n",
       "1337745268591259648                         27312                       16198   \n",
       "\n",
       "                     retweet_count_by_community_3  quote_count_by_community_3  \\\n",
       "tweet_id                                                                        \n",
       "1324357146088267777                             0                           0   \n",
       "1324420619539271680                             1                           0   \n",
       "1332352538855747584                          1347                         163   \n",
       "1338871862315667456                          1553                          97   \n",
       "1330148622898515969                          1386                         129   \n",
       "1336811823232921600                          2330                         362   \n",
       "1325432465415163904                           734                          72   \n",
       "1332317394165968899                          1599                         150   \n",
       "1327750127679889409                          1364                         101   \n",
       "1337745268591259648                          1593                         861   \n",
       "\n",
       "                     retweet_count_by_community_4  quote_count_by_community_4  \\\n",
       "tweet_id                                                                        \n",
       "1324357146088267777                             0                           0   \n",
       "1324420619539271680                             5                           1   \n",
       "1332352538855747584                          1269                         191   \n",
       "1338871862315667456                          1573                         104   \n",
       "1330148622898515969                          1380                          80   \n",
       "1336811823232921600                          1446                         167   \n",
       "1325432465415163904                           721                          61   \n",
       "1332317394165968899                          1165                         140   \n",
       "1327750127679889409                          1418                          99   \n",
       "1337745268591259648                           974                         380   \n",
       "\n",
       "                     retweet_count_by_suspended_users  \\\n",
       "tweet_id                                                \n",
       "1324357146088267777                               110   \n",
       "1324420619539271680                               140   \n",
       "1332352538855747584                              7702   \n",
       "1338871862315667456                             11883   \n",
       "1330148622898515969                              8981   \n",
       "1336811823232921600                              8863   \n",
       "1325432465415163904                              4165   \n",
       "1332317394165968899                              7722   \n",
       "1327750127679889409                              9181   \n",
       "1337745268591259648                              8307   \n",
       "\n",
       "                     quote_count_by_suspended_users  \n",
       "tweet_id                                             \n",
       "1324357146088267777                              13  \n",
       "1324420619539271680                              21  \n",
       "1332352538855747584                            1588  \n",
       "1338871862315667456                            1418  \n",
       "1330148622898515969                             934  \n",
       "1336811823232921600                            1691  \n",
       "1325432465415163904                             574  \n",
       "1332317394165968899                             936  \n",
       "1327750127679889409                            1068  \n",
       "1337745268591259648                            4525  "
      ],
      "text/html": "<div>\n<style scoped>\n    .dataframe tbody tr th:only-of-type {\n        vertical-align: middle;\n    }\n\n    .dataframe tbody tr th {\n        vertical-align: top;\n    }\n\n    .dataframe thead th {\n        text-align: right;\n    }\n</style>\n<table border=\"1\" class=\"dataframe\">\n  <thead>\n    <tr style=\"text-align: right;\">\n      <th></th>\n      <th>user_community</th>\n      <th>user_active_status</th>\n      <th>retweet_count_metadata</th>\n      <th>quote_count_metadata</th>\n      <th>retweet_count_by_community_0</th>\n      <th>quote_count_by_community_0</th>\n      <th>retweet_count_by_community_1</th>\n      <th>quote_count_by_community_1</th>\n      <th>retweet_count_by_community_2</th>\n      <th>quote_count_by_community_2</th>\n      <th>retweet_count_by_community_3</th>\n      <th>quote_count_by_community_3</th>\n      <th>retweet_count_by_community_4</th>\n      <th>quote_count_by_community_4</th>\n      <th>retweet_count_by_suspended_users</th>\n      <th>quote_count_by_suspended_users</th>\n    </tr>\n    <tr>\n      <th>tweet_id</th>\n      <th></th>\n      <th></th>\n      <th></th>\n      <th></th>\n      <th></th>\n      <th></th>\n      <th></th>\n      <th></th>\n      <th></th>\n      <th></th>\n      <th></th>\n      <th></th>\n      <th></th>\n      <th></th>\n      <th></th>\n      <th></th>\n    </tr>\n  </thead>\n  <tbody>\n    <tr>\n      <th>1324357146088267777</th>\n      <td>0.0</td>\n      <td>active</td>\n      <td>205823</td>\n      <td>8271</td>\n      <td>38097</td>\n      <td>386</td>\n      <td>28</td>\n      <td>25</td>\n      <td>20</td>\n      <td>15</td>\n      <td>0</td>\n      <td>0</td>\n      <td>0</td>\n      <td>0</td>\n      <td>110</td>\n      <td>13</td>\n    </tr>\n    <tr>\n      <th>1324420619539271680</th>\n      <td>0.0</td>\n      <td>active</td>\n      <td>149829</td>\n      <td>9116</td>\n      <td>21819</td>\n      <td>340</td>\n      <td>17</td>\n      <td>30</td>\n      <td>50</td>\n      <td>35</td>\n      <td>1</td>\n      <td>0</td>\n      <td>5</td>\n      <td>1</td>\n      <td>140</td>\n      <td>21</td>\n    </tr>\n    <tr>\n      <th>1332352538855747584</th>\n      <td>1.0</td>\n      <td>suspended</td>\n      <td>91902</td>\n      <td>27139</td>\n      <td>267</td>\n      <td>3891</td>\n      <td>13600</td>\n      <td>1653</td>\n      <td>26685</td>\n      <td>5535</td>\n      <td>1347</td>\n      <td>163</td>\n      <td>1269</td>\n      <td>191</td>\n      <td>7702</td>\n      <td>1588</td>\n    </tr>\n    <tr>\n      <th>1338871862315667456</th>\n      <td>1.0</td>\n      <td>suspended</td>\n      <td>79140</td>\n      <td>14591</td>\n      <td>243</td>\n      <td>2565</td>\n      <td>15765</td>\n      <td>1346</td>\n      <td>38812</td>\n      <td>5010</td>\n      <td>1553</td>\n      <td>97</td>\n      <td>1573</td>\n      <td>104</td>\n      <td>11883</td>\n      <td>1418</td>\n    </tr>\n    <tr>\n      <th>1330148622898515969</th>\n      <td>1.0</td>\n      <td>suspended</td>\n      <td>78904</td>\n      <td>13190</td>\n      <td>308</td>\n      <td>1727</td>\n      <td>12798</td>\n      <td>766</td>\n      <td>28892</td>\n      <td>2852</td>\n      <td>1386</td>\n      <td>129</td>\n      <td>1380</td>\n      <td>80</td>\n      <td>8981</td>\n      <td>934</td>\n    </tr>\n    <tr>\n      <th>1336811823232921600</th>\n      <td>1.0</td>\n      <td>suspended</td>\n      <td>76171</td>\n      <td>14055</td>\n      <td>195</td>\n      <td>761</td>\n      <td>16194</td>\n      <td>1814</td>\n      <td>29451</td>\n      <td>5575</td>\n      <td>2330</td>\n      <td>362</td>\n      <td>1446</td>\n      <td>167</td>\n      <td>8863</td>\n      <td>1691</td>\n    </tr>\n    <tr>\n      <th>1325432465415163904</th>\n      <td>1.0</td>\n      <td>suspended</td>\n      <td>75385</td>\n      <td>13632</td>\n      <td>168</td>\n      <td>617</td>\n      <td>6437</td>\n      <td>434</td>\n      <td>13040</td>\n      <td>1839</td>\n      <td>734</td>\n      <td>72</td>\n      <td>721</td>\n      <td>61</td>\n      <td>4165</td>\n      <td>574</td>\n    </tr>\n    <tr>\n      <th>1332317394165968899</th>\n      <td>1.0</td>\n      <td>suspended</td>\n      <td>73664</td>\n      <td>9768</td>\n      <td>141</td>\n      <td>318</td>\n      <td>11602</td>\n      <td>1109</td>\n      <td>25945</td>\n      <td>3525</td>\n      <td>1599</td>\n      <td>150</td>\n      <td>1165</td>\n      <td>140</td>\n      <td>7722</td>\n      <td>936</td>\n    </tr>\n    <tr>\n      <th>1327750127679889409</th>\n      <td>1.0</td>\n      <td>suspended</td>\n      <td>71054</td>\n      <td>11185</td>\n      <td>224</td>\n      <td>1666</td>\n      <td>12062</td>\n      <td>892</td>\n      <td>29032</td>\n      <td>3533</td>\n      <td>1364</td>\n      <td>101</td>\n      <td>1418</td>\n      <td>99</td>\n      <td>9181</td>\n      <td>1068</td>\n    </tr>\n    <tr>\n      <th>1337745268591259648</th>\n      <td>1.0</td>\n      <td>suspended</td>\n      <td>66741</td>\n      <td>54083</td>\n      <td>211</td>\n      <td>3043</td>\n      <td>13964</td>\n      <td>6612</td>\n      <td>27312</td>\n      <td>16198</td>\n      <td>1593</td>\n      <td>861</td>\n      <td>974</td>\n      <td>380</td>\n      <td>8307</td>\n      <td>4525</td>\n    </tr>\n  </tbody>\n</table>\n</div>"
     },
     "metadata": {},
     "execution_count": 76
    }
   ],
   "source": [
    "df_tweets.nlargest(10, \"retweet_count_metadata\")"
   ]
  },
  {
   "source": [
    "## Retweets"
   ],
   "cell_type": "markdown",
   "metadata": {}
  },
  {
   "cell_type": "code",
   "execution_count": 77,
   "metadata": {},
   "outputs": [
    {
     "output_type": "stream",
     "name": "stdout",
     "text": [
      "<class 'pandas.core.frame.DataFrame'>\nInt64Index: 25566698 entries, 0 to 203826\nData columns (total 2 columns):\n #   Column        Dtype\n---  ------        -----\n 0   retweeted_id  int64\n 1   user_id       int64\ndtypes: int64(2)\nmemory usage: 585.2 MB\n"
     ]
    }
   ],
   "source": [
    "df_retweets = load_chunks(\"./data/retweets/\")\n",
    "df_retweets.info()"
   ]
  },
  {
   "cell_type": "code",
   "execution_count": 92,
   "metadata": {},
   "outputs": [
    {
     "output_type": "stream",
     "name": "stdout",
     "text": [
      "Number of retweets 25,566,698\n"
     ]
    }
   ],
   "source": [
    "print(\"Number of retweets {:,}\".format(df_retweets.shape[0]))"
   ]
  },
  {
   "cell_type": "code",
   "execution_count": 79,
   "metadata": {},
   "outputs": [
    {
     "output_type": "execute_result",
     "data": {
      "text/plain": [
       "          retweeted_id              user_id\n",
       "0  1319609788091817985  1198035481650515974\n",
       "1  1319667770083233792   910642944293654528\n",
       "2  1319550613668175875            372053421\n",
       "3  1310647895033610240  1032786509995421696\n",
       "4  1319677395629006849            380671484"
      ],
      "text/html": "<div>\n<style scoped>\n    .dataframe tbody tr th:only-of-type {\n        vertical-align: middle;\n    }\n\n    .dataframe tbody tr th {\n        vertical-align: top;\n    }\n\n    .dataframe thead th {\n        text-align: right;\n    }\n</style>\n<table border=\"1\" class=\"dataframe\">\n  <thead>\n    <tr style=\"text-align: right;\">\n      <th></th>\n      <th>retweeted_id</th>\n      <th>user_id</th>\n    </tr>\n  </thead>\n  <tbody>\n    <tr>\n      <th>0</th>\n      <td>1319609788091817985</td>\n      <td>1198035481650515974</td>\n    </tr>\n    <tr>\n      <th>1</th>\n      <td>1319667770083233792</td>\n      <td>910642944293654528</td>\n    </tr>\n    <tr>\n      <th>2</th>\n      <td>1319550613668175875</td>\n      <td>372053421</td>\n    </tr>\n    <tr>\n      <th>3</th>\n      <td>1310647895033610240</td>\n      <td>1032786509995421696</td>\n    </tr>\n    <tr>\n      <th>4</th>\n      <td>1319677395629006849</td>\n      <td>380671484</td>\n    </tr>\n  </tbody>\n</table>\n</div>"
     },
     "metadata": {},
     "execution_count": 79
    }
   ],
   "source": [
    "df_retweets.head()"
   ]
  },
  {
   "source": [
    "## Users"
   ],
   "cell_type": "markdown",
   "metadata": {}
  },
  {
   "cell_type": "code",
   "execution_count": 80,
   "metadata": {},
   "outputs": [
    {
     "output_type": "stream",
     "name": "stdout",
     "text": [
      "<class 'pandas.core.frame.DataFrame'>\nInt64Index: 2559018 entries, 6590 to 1269104794511147008\nData columns (total 16 columns):\n #   Column                                  Dtype  \n---  ------                                  -----  \n 0   user_community                          float64\n 1   user_active_status                      object \n 2   closeness_centrality_detractor_cluster  float64\n 3   closeness_centrality_promoter_cluster   float64\n 4   retweet_count_by_community_0            int64  \n 5   quote_count_by_community_0              int64  \n 6   retweet_count_by_community_1            int64  \n 7   quote_count_by_community_1              int64  \n 8   retweet_count_by_community_2            int64  \n 9   quote_count_by_community_2              int64  \n 10  retweet_count_by_community_3            int64  \n 11  quote_count_by_community_3              int64  \n 12  retweet_count_by_community_4            int64  \n 13  quote_count_by_community_4              int64  \n 14  retweet_count_by_suspended_users        int64  \n 15  quote_count_by_suspended_users          int64  \ndtypes: float64(3), int64(12), object(1)\nmemory usage: 331.9+ MB\n"
     ]
    }
   ],
   "source": [
    "df_users = load_chunks(\"./data/users/\").set_index(\"user_id\")\n",
    "df_users.info()"
   ]
  },
  {
   "cell_type": "code",
   "execution_count": 96,
   "metadata": {},
   "outputs": [
    {
     "output_type": "stream",
     "name": "stdout",
     "text": [
      "Number of users 2,559,018\n"
     ]
    }
   ],
   "source": [
    "print(\"Number of users {:,}\".format(df_users.shape[0]))"
   ]
  },
  {
   "cell_type": "code",
   "execution_count": 82,
   "metadata": {},
   "outputs": [
    {
     "output_type": "execute_result",
     "data": {
      "text/plain": [
       "                    user_community user_active_status  \\\n",
       "user_id                                                 \n",
       "25073877                       1.0          suspended   \n",
       "187680645                      1.0          suspended   \n",
       "770781940341288960             1.0             active   \n",
       "26487169                       1.0             active   \n",
       "4041824789                     1.0             active   \n",
       "240454812                      1.0          suspended   \n",
       "586707638                      1.0          suspended   \n",
       "2853461537                     1.0             active   \n",
       "16989178                       1.0             active   \n",
       "18266688                       1.0             active   \n",
       "\n",
       "                    closeness_centrality_detractor_cluster  \\\n",
       "user_id                                                      \n",
       "25073877                                               NaN   \n",
       "187680645                                              NaN   \n",
       "770781940341288960                                     NaN   \n",
       "26487169                                               NaN   \n",
       "4041824789                                             NaN   \n",
       "240454812                                              NaN   \n",
       "586707638                                              NaN   \n",
       "2853461537                                             NaN   \n",
       "16989178                                               NaN   \n",
       "18266688                                               NaN   \n",
       "\n",
       "                    closeness_centrality_promoter_cluster  \\\n",
       "user_id                                                     \n",
       "25073877                                         0.454827   \n",
       "187680645                                        0.398071   \n",
       "770781940341288960                               0.367028   \n",
       "26487169                                         0.364001   \n",
       "4041824789                                       0.360909   \n",
       "240454812                                        0.360518   \n",
       "586707638                                        0.350383   \n",
       "2853461537                                       0.347768   \n",
       "16989178                                         0.345512   \n",
       "18266688                                         0.341606   \n",
       "\n",
       "                    retweet_count_by_community_0  quote_count_by_community_0  \\\n",
       "user_id                                                                        \n",
       "25073877                                    6257                       29941   \n",
       "187680645                                    927                         743   \n",
       "770781940341288960                           422                        1912   \n",
       "26487169                                     224                         345   \n",
       "4041824789                                   268                         336   \n",
       "240454812                                    379                         463   \n",
       "586707638                                    483                         297   \n",
       "2853461537                                   375                         474   \n",
       "16989178                                     464                         285   \n",
       "18266688                                     286                         107   \n",
       "\n",
       "                    retweet_count_by_community_1  quote_count_by_community_1  \\\n",
       "user_id                                                                        \n",
       "25073877                                  292242                       26607   \n",
       "187680645                                  54936                        8725   \n",
       "770781940341288960                         23522                        2077   \n",
       "26487169                                   13566                        1761   \n",
       "4041824789                                  9739                         979   \n",
       "240454812                                  26678                        2449   \n",
       "586707638                                  38270                        4906   \n",
       "2853461537                                 12410                        1095   \n",
       "16989178                                   34641                        4673   \n",
       "18266688                                   19250                        1326   \n",
       "\n",
       "                    retweet_count_by_community_2  quote_count_by_community_2  \\\n",
       "user_id                                                                        \n",
       "25073877                                  863596                       94552   \n",
       "187680645                                 777109                       63310   \n",
       "770781940341288960                        152796                       11181   \n",
       "26487169                                  103977                       10384   \n",
       "4041824789                                 77775                        6534   \n",
       "240454812                                 242446                       15196   \n",
       "586707638                                 453157                       32319   \n",
       "2853461537                                 69144                        5239   \n",
       "16989178                                  172243                       21370   \n",
       "18266688                                  164306                        8086   \n",
       "\n",
       "                    retweet_count_by_community_3  quote_count_by_community_3  \\\n",
       "user_id                                                                        \n",
       "25073877                                   37414                        3556   \n",
       "187680645                                  11434                        1251   \n",
       "770781940341288960                          4353                         286   \n",
       "26487169                                     778                         115   \n",
       "4041824789                                   803                          96   \n",
       "240454812                                   2548                         237   \n",
       "586707638                                   5647                         313   \n",
       "2853461537                                   329                          34   \n",
       "16989178                                     564                          94   \n",
       "18266688                                     343                          19   \n",
       "\n",
       "                    retweet_count_by_community_4  quote_count_by_community_4  \\\n",
       "user_id                                                                        \n",
       "25073877                                   32117                        2326   \n",
       "187680645                                   5607                         395   \n",
       "770781940341288960                          4636                         212   \n",
       "26487169                                    1952                         329   \n",
       "4041824789                                   900                          73   \n",
       "240454812                                   2233                         179   \n",
       "586707638                                   4071                         240   \n",
       "2853461537                                   616                          27   \n",
       "16989178                                    1025                         184   \n",
       "18266688                                    1446                          59   \n",
       "\n",
       "                    retweet_count_by_suspended_users  \\\n",
       "user_id                                                \n",
       "25073877                                      291398   \n",
       "187680645                                     321090   \n",
       "770781940341288960                             53879   \n",
       "26487169                                       37425   \n",
       "4041824789                                     29869   \n",
       "240454812                                     103916   \n",
       "586707638                                     186173   \n",
       "2853461537                                     20201   \n",
       "16989178                                       57993   \n",
       "18266688                                       61545   \n",
       "\n",
       "                    quote_count_by_suspended_users  \n",
       "user_id                                             \n",
       "25073877                                     28156  \n",
       "187680645                                    21483  \n",
       "770781940341288960                            3358  \n",
       "26487169                                      3012  \n",
       "4041824789                                    1923  \n",
       "240454812                                     5731  \n",
       "586707638                                    11241  \n",
       "2853461537                                    1218  \n",
       "16989178                                      6525  \n",
       "18266688                                      2416  "
      ],
      "text/html": "<div>\n<style scoped>\n    .dataframe tbody tr th:only-of-type {\n        vertical-align: middle;\n    }\n\n    .dataframe tbody tr th {\n        vertical-align: top;\n    }\n\n    .dataframe thead th {\n        text-align: right;\n    }\n</style>\n<table border=\"1\" class=\"dataframe\">\n  <thead>\n    <tr style=\"text-align: right;\">\n      <th></th>\n      <th>user_community</th>\n      <th>user_active_status</th>\n      <th>closeness_centrality_detractor_cluster</th>\n      <th>closeness_centrality_promoter_cluster</th>\n      <th>retweet_count_by_community_0</th>\n      <th>quote_count_by_community_0</th>\n      <th>retweet_count_by_community_1</th>\n      <th>quote_count_by_community_1</th>\n      <th>retweet_count_by_community_2</th>\n      <th>quote_count_by_community_2</th>\n      <th>retweet_count_by_community_3</th>\n      <th>quote_count_by_community_3</th>\n      <th>retweet_count_by_community_4</th>\n      <th>quote_count_by_community_4</th>\n      <th>retweet_count_by_suspended_users</th>\n      <th>quote_count_by_suspended_users</th>\n    </tr>\n    <tr>\n      <th>user_id</th>\n      <th></th>\n      <th></th>\n      <th></th>\n      <th></th>\n      <th></th>\n      <th></th>\n      <th></th>\n      <th></th>\n      <th></th>\n      <th></th>\n      <th></th>\n      <th></th>\n      <th></th>\n      <th></th>\n      <th></th>\n      <th></th>\n    </tr>\n  </thead>\n  <tbody>\n    <tr>\n      <th>25073877</th>\n      <td>1.0</td>\n      <td>suspended</td>\n      <td>NaN</td>\n      <td>0.454827</td>\n      <td>6257</td>\n      <td>29941</td>\n      <td>292242</td>\n      <td>26607</td>\n      <td>863596</td>\n      <td>94552</td>\n      <td>37414</td>\n      <td>3556</td>\n      <td>32117</td>\n      <td>2326</td>\n      <td>291398</td>\n      <td>28156</td>\n    </tr>\n    <tr>\n      <th>187680645</th>\n      <td>1.0</td>\n      <td>suspended</td>\n      <td>NaN</td>\n      <td>0.398071</td>\n      <td>927</td>\n      <td>743</td>\n      <td>54936</td>\n      <td>8725</td>\n      <td>777109</td>\n      <td>63310</td>\n      <td>11434</td>\n      <td>1251</td>\n      <td>5607</td>\n      <td>395</td>\n      <td>321090</td>\n      <td>21483</td>\n    </tr>\n    <tr>\n      <th>770781940341288960</th>\n      <td>1.0</td>\n      <td>active</td>\n      <td>NaN</td>\n      <td>0.367028</td>\n      <td>422</td>\n      <td>1912</td>\n      <td>23522</td>\n      <td>2077</td>\n      <td>152796</td>\n      <td>11181</td>\n      <td>4353</td>\n      <td>286</td>\n      <td>4636</td>\n      <td>212</td>\n      <td>53879</td>\n      <td>3358</td>\n    </tr>\n    <tr>\n      <th>26487169</th>\n      <td>1.0</td>\n      <td>active</td>\n      <td>NaN</td>\n      <td>0.364001</td>\n      <td>224</td>\n      <td>345</td>\n      <td>13566</td>\n      <td>1761</td>\n      <td>103977</td>\n      <td>10384</td>\n      <td>778</td>\n      <td>115</td>\n      <td>1952</td>\n      <td>329</td>\n      <td>37425</td>\n      <td>3012</td>\n    </tr>\n    <tr>\n      <th>4041824789</th>\n      <td>1.0</td>\n      <td>active</td>\n      <td>NaN</td>\n      <td>0.360909</td>\n      <td>268</td>\n      <td>336</td>\n      <td>9739</td>\n      <td>979</td>\n      <td>77775</td>\n      <td>6534</td>\n      <td>803</td>\n      <td>96</td>\n      <td>900</td>\n      <td>73</td>\n      <td>29869</td>\n      <td>1923</td>\n    </tr>\n    <tr>\n      <th>240454812</th>\n      <td>1.0</td>\n      <td>suspended</td>\n      <td>NaN</td>\n      <td>0.360518</td>\n      <td>379</td>\n      <td>463</td>\n      <td>26678</td>\n      <td>2449</td>\n      <td>242446</td>\n      <td>15196</td>\n      <td>2548</td>\n      <td>237</td>\n      <td>2233</td>\n      <td>179</td>\n      <td>103916</td>\n      <td>5731</td>\n    </tr>\n    <tr>\n      <th>586707638</th>\n      <td>1.0</td>\n      <td>suspended</td>\n      <td>NaN</td>\n      <td>0.350383</td>\n      <td>483</td>\n      <td>297</td>\n      <td>38270</td>\n      <td>4906</td>\n      <td>453157</td>\n      <td>32319</td>\n      <td>5647</td>\n      <td>313</td>\n      <td>4071</td>\n      <td>240</td>\n      <td>186173</td>\n      <td>11241</td>\n    </tr>\n    <tr>\n      <th>2853461537</th>\n      <td>1.0</td>\n      <td>active</td>\n      <td>NaN</td>\n      <td>0.347768</td>\n      <td>375</td>\n      <td>474</td>\n      <td>12410</td>\n      <td>1095</td>\n      <td>69144</td>\n      <td>5239</td>\n      <td>329</td>\n      <td>34</td>\n      <td>616</td>\n      <td>27</td>\n      <td>20201</td>\n      <td>1218</td>\n    </tr>\n    <tr>\n      <th>16989178</th>\n      <td>1.0</td>\n      <td>active</td>\n      <td>NaN</td>\n      <td>0.345512</td>\n      <td>464</td>\n      <td>285</td>\n      <td>34641</td>\n      <td>4673</td>\n      <td>172243</td>\n      <td>21370</td>\n      <td>564</td>\n      <td>94</td>\n      <td>1025</td>\n      <td>184</td>\n      <td>57993</td>\n      <td>6525</td>\n    </tr>\n    <tr>\n      <th>18266688</th>\n      <td>1.0</td>\n      <td>active</td>\n      <td>NaN</td>\n      <td>0.341606</td>\n      <td>286</td>\n      <td>107</td>\n      <td>19250</td>\n      <td>1326</td>\n      <td>164306</td>\n      <td>8086</td>\n      <td>343</td>\n      <td>19</td>\n      <td>1446</td>\n      <td>59</td>\n      <td>61545</td>\n      <td>2416</td>\n    </tr>\n  </tbody>\n</table>\n</div>"
     },
     "metadata": {},
     "execution_count": 82
    }
   ],
   "source": [
    "df_users.nlargest(10, \"closeness_centrality_promoter_cluster\")"
   ]
  },
  {
   "source": [
    "## Images"
   ],
   "cell_type": "markdown",
   "metadata": {}
  },
  {
   "cell_type": "code",
   "execution_count": 83,
   "metadata": {},
   "outputs": [
    {
     "output_type": "stream",
     "name": "stdout",
     "text": [
      "<class 'pandas.core.frame.DataFrame'>\nInt64Index: 167696 entries, 5327346445844480 to 5114016670154752\nData columns (total 4 columns):\n #   Column    Non-Null Count   Dtype \n---  ------    --------------   ----- \n 0   tweet_id  167696 non-null  int64 \n 1   a_hash    167696 non-null  object\n 2   p_hash    167696 non-null  object\n 3   w_hash    167696 non-null  object\ndtypes: int64(1), object(3)\nmemory usage: 6.4+ MB\n"
     ]
    }
   ],
   "source": [
    "images = pd.read_csv(\"data/images.csv\", index_col=\"unique_id\")\n",
    "images.info()"
   ]
  },
  {
   "cell_type": "code",
   "execution_count": 99,
   "metadata": {},
   "outputs": [
    {
     "output_type": "stream",
     "name": "stdout",
     "text": [
      "Number of images 167,696\nTweets           145,287\nUnique aHashes   102,521\nUnique pHashes   109,312\nUnique wHashes   103,508\n"
     ]
    }
   ],
   "source": [
    "print(\"Number of images {:,}\".format(images.shape[0]))\n",
    "print(\"Tweets           {:,}\".format(images.tweet_id.nunique()))\n",
    "print(\"Unique aHashes   {:,}\".format(images.a_hash.nunique()))\n",
    "print(\"Unique pHashes   {:,}\".format(images.p_hash.nunique()))\n",
    "print(\"Unique wHashes   {:,}\".format(images.w_hash.nunique()))"
   ]
  },
  {
   "cell_type": "code",
   "execution_count": 85,
   "metadata": {},
   "outputs": [
    {
     "output_type": "execute_result",
     "data": {
      "text/plain": [
       "                             tweet_id            a_hash            p_hash  \\\n",
       "unique_id                                                                   \n",
       "5327346445844480  1327172039669665794  6000007e7e7e0000  817e6a80d55f5a66   \n",
       "6224547934109696  1327172094707187712  f9f8f8f0f0d3f9f9  cbd29ba4628d2d53   \n",
       "5478141178937344  1327172494080446465  6c747e7c30e1e3bf  c250b56b5e71da07   \n",
       "6254140300722176  1327173062207238144  ffffc0801f3f7fff  ab7881877e606397   \n",
       "4504283114373120  1327173190859165696  ffddde1e151200c3  bcd2e920876d943e   \n",
       "\n",
       "                            w_hash  \n",
       "unique_id                           \n",
       "5327346445844480  f4003c7e7f7f2600  \n",
       "6224547934109696  f8f8f8f0c081b939  \n",
       "5478141178937344  28743c5c30c1e3ff  \n",
       "6254140300722176  f0f0c080003f3fff  \n",
       "4504283114373120  ffdd9e57150200c3  "
      ],
      "text/html": "<div>\n<style scoped>\n    .dataframe tbody tr th:only-of-type {\n        vertical-align: middle;\n    }\n\n    .dataframe tbody tr th {\n        vertical-align: top;\n    }\n\n    .dataframe thead th {\n        text-align: right;\n    }\n</style>\n<table border=\"1\" class=\"dataframe\">\n  <thead>\n    <tr style=\"text-align: right;\">\n      <th></th>\n      <th>tweet_id</th>\n      <th>a_hash</th>\n      <th>p_hash</th>\n      <th>w_hash</th>\n    </tr>\n    <tr>\n      <th>unique_id</th>\n      <th></th>\n      <th></th>\n      <th></th>\n      <th></th>\n    </tr>\n  </thead>\n  <tbody>\n    <tr>\n      <th>5327346445844480</th>\n      <td>1327172039669665794</td>\n      <td>6000007e7e7e0000</td>\n      <td>817e6a80d55f5a66</td>\n      <td>f4003c7e7f7f2600</td>\n    </tr>\n    <tr>\n      <th>6224547934109696</th>\n      <td>1327172094707187712</td>\n      <td>f9f8f8f0f0d3f9f9</td>\n      <td>cbd29ba4628d2d53</td>\n      <td>f8f8f8f0c081b939</td>\n    </tr>\n    <tr>\n      <th>5478141178937344</th>\n      <td>1327172494080446465</td>\n      <td>6c747e7c30e1e3bf</td>\n      <td>c250b56b5e71da07</td>\n      <td>28743c5c30c1e3ff</td>\n    </tr>\n    <tr>\n      <th>6254140300722176</th>\n      <td>1327173062207238144</td>\n      <td>ffffc0801f3f7fff</td>\n      <td>ab7881877e606397</td>\n      <td>f0f0c080003f3fff</td>\n    </tr>\n    <tr>\n      <th>4504283114373120</th>\n      <td>1327173190859165696</td>\n      <td>ffddde1e151200c3</td>\n      <td>bcd2e920876d943e</td>\n      <td>ffdd9e57150200c3</td>\n    </tr>\n  </tbody>\n</table>\n</div>"
     },
     "metadata": {},
     "execution_count": 85
    }
   ],
   "source": [
    "images.head()"
   ]
  },
  {
   "source": [
    "## Youtube Videos"
   ],
   "cell_type": "markdown",
   "metadata": {}
  },
  {
   "cell_type": "code",
   "execution_count": 86,
   "metadata": {},
   "outputs": [
    {
     "output_type": "stream",
     "name": "stdout",
     "text": [
      "<class 'pandas.core.frame.DataFrame'>\nIndex: 12002 entries, psGpIuNh_dU to xYhd5kLmmks\nData columns (total 26 columns):\n #   Column                            Non-Null Count  Dtype \n---  ------                            --------------  ----- \n 0   video_title                       12002 non-null  object\n 1   video_description                 11136 non-null  object\n 2   channel_id                        12002 non-null  object\n 3   channel_title                     12002 non-null  object\n 4   published_at                      12002 non-null  object\n 5   tweet_count                       12002 non-null  int64 \n 6   retweet_count_metadata            12002 non-null  int64 \n 7   quote_count_metadata              12002 non-null  int64 \n 8   tweet_count_by_community_0        12002 non-null  int64 \n 9   retweet_count_by_community_0      12002 non-null  int64 \n 10  quote_count_by_community_0        12002 non-null  int64 \n 11  tweet_count_by_community_1        12002 non-null  int64 \n 12  retweet_count_by_community_1      12002 non-null  int64 \n 13  quote_count_by_community_1        12002 non-null  int64 \n 14  tweet_count_by_community_2        12002 non-null  int64 \n 15  retweet_count_by_community_2      12002 non-null  int64 \n 16  quote_count_by_community_2        12002 non-null  int64 \n 17  tweet_count_by_community_3        12002 non-null  int64 \n 18  retweet_count_by_community_3      12002 non-null  int64 \n 19  quote_count_by_community_3        12002 non-null  int64 \n 20  tweet_count_by_community_4        12002 non-null  int64 \n 21  retweet_count_by_community_4      12002 non-null  int64 \n 22  quote_count_by_community_4        12002 non-null  int64 \n 23  tweet_count_by_suspended_users    12002 non-null  int64 \n 24  retweet_count_by_suspended_users  12002 non-null  int64 \n 25  quote_count_by_suspended_users    12002 non-null  int64 \ndtypes: int64(21), object(5)\nmemory usage: 2.5+ MB\n"
     ]
    }
   ],
   "source": [
    "youtube_videos = pd.read_csv(\"data/youtube_videos.csv\", index_col=\"video_id\")\n",
    "youtube_videos.info()"
   ]
  },
  {
   "cell_type": "code",
   "execution_count": 100,
   "metadata": {},
   "outputs": [
    {
     "output_type": "stream",
     "name": "stdout",
     "text": [
      "Number of youtube videos 12,002\n"
     ]
    }
   ],
   "source": [
    "print(\"Number of youtube videos {:,}\".format(youtube_videos.shape[0]))"
   ]
  },
  {
   "cell_type": "code",
   "execution_count": 88,
   "metadata": {},
   "outputs": [
    {
     "output_type": "execute_result",
     "data": {
      "text/plain": [
       "                                                   video_title  \\\n",
       "video_id                                                         \n",
       "psGpIuNh_dU  Articia Bomer Witnessed Dems Counting Spoiled ...   \n",
       "96-BQaIVOpc  LIVE UPDATES: Democrats Try to Steal Election!...   \n",
       "VgMPDnWunqs  AG Barr releases memo on election fraud, DOJ o...   \n",
       "ANeq2VKPOak  YOUNG PHARAOH INTERVIEWS JAMES OKEEFE- 2020 VO...   \n",
       "dB0h_50OfzA  Trump confidant: the president has all the pro...   \n",
       "VDf1j4IQz28  Bobby Piton testifies at AZ Election Fraud Hea...   \n",
       "V5jQBYALy0g    11.8.20: LAWSUITS on the WAY! What is going on?   \n",
       "KIlI46HdqKg  Smoking Gun: ES&S (Philly's Computer System) T...   \n",
       "RCfU2KizzdM  LIVE: Arizona State Senate Judiciary Holds Hea...   \n",
       "fveONZpDbiw  Vernon Jones says Georgia’s election fraud cen...   \n",
       "\n",
       "                                             video_description  \\\n",
       "video_id                                                         \n",
       "psGpIuNh_dU  Articia Bomer Witnessed Dems Counting Spoiled ...   \n",
       "96-BQaIVOpc  Steven reviews the latest updates in the 2020 ...   \n",
       "VgMPDnWunqs  The head of the Justice Department’s elections...   \n",
       "ANeq2VKPOak  YOUNG PHARAOH INTERVIEWS JAMES OKEEFE IN REGAR...   \n",
       "dB0h_50OfzA  Steve Mosher of the Population Research Instit...   \n",
       "VDf1j4IQz28  Bobby Piton testifies at AZ Election Fraud Hea...   \n",
       "V5jQBYALy0g  Get The Best VPN For 50% Off Today!\\nClick Her...   \n",
       "KIlI46HdqKg  In this video you will see data from the NYT f...   \n",
       "RCfU2KizzdM  LIVE: Arizona State Senate Holds Hearing on El...   \n",
       "fveONZpDbiw  John Solomon Reports: John Interviews Georgia ...   \n",
       "\n",
       "                           channel_id                    channel_title  \\\n",
       "video_id                                                                 \n",
       "psGpIuNh_dU  UCekdKDk6d8opUrUEXtXD4XQ                      Precinct 13   \n",
       "96-BQaIVOpc  UCIveFvW-ARp_B_RckhweNJw                    StevenCrowder   \n",
       "VgMPDnWunqs  UCNbIDJNNgaRrXOD7VllIMRQ         One America News Network   \n",
       "ANeq2VKPOak  UCtKtmiQ2GlWlqPDzXwrR4NA                    YOUNG PHARAOH   \n",
       "dB0h_50OfzA  UCYImiD9L0dMycenfBy2al0Q                     LifeSiteNews   \n",
       "VDf1j4IQz28  UCSKoabidZh5qoTF4Xg96K7A      Three Headed Eagle Alliance   \n",
       "V5jQBYALy0g  UCzkAzJ2vQgRyEDzHFiKOaQA                         AWK NEWS   \n",
       "KIlI46HdqKg  UCIxc8YMkny2KBaD5TQsSbpg                   Edward Solomon   \n",
       "RCfU2KizzdM  UCHqC-yWZ1kri4YzwRSt6RGQ  Right Side Broadcasting Network   \n",
       "fveONZpDbiw  UC588htN7jqso3D80OnGGrAw                    Just The News   \n",
       "\n",
       "                     published_at  tweet_count  retweet_count_metadata  \\\n",
       "video_id                                                                 \n",
       "psGpIuNh_dU  2020-11-23T10:32:13Z           88                   11909   \n",
       "96-BQaIVOpc  2020-11-04T22:49:00Z          333                    4739   \n",
       "VgMPDnWunqs  2020-11-11T23:58:41Z          150                    1605   \n",
       "ANeq2VKPOak  2020-11-17T20:00:08Z           43                     982   \n",
       "dB0h_50OfzA  2020-11-13T22:14:18Z           27                     937   \n",
       "VDf1j4IQz28  2020-11-30T22:54:54Z           65                     919   \n",
       "V5jQBYALy0g  2020-11-08T14:34:16Z            3                     808   \n",
       "KIlI46HdqKg  2020-11-20T22:54:00Z           13                     781   \n",
       "RCfU2KizzdM  2020-12-14T22:54:38Z          148                     756   \n",
       "fveONZpDbiw  2020-11-13T03:48:34Z           17                     750   \n",
       "\n",
       "             quote_count_metadata  tweet_count_by_community_0  \\\n",
       "video_id                                                        \n",
       "psGpIuNh_dU                  1301                           0   \n",
       "96-BQaIVOpc                   496                           0   \n",
       "VgMPDnWunqs                   100                           1   \n",
       "ANeq2VKPOak                    45                           0   \n",
       "dB0h_50OfzA                    72                           0   \n",
       "VDf1j4IQz28                    45                           0   \n",
       "V5jQBYALy0g                   133                           0   \n",
       "KIlI46HdqKg                    50                           0   \n",
       "RCfU2KizzdM                    36                           1   \n",
       "fveONZpDbiw                    29                           0   \n",
       "\n",
       "             retweet_count_by_community_0  ...  quote_count_by_community_2  \\\n",
       "video_id                                   ...                               \n",
       "psGpIuNh_dU                             5  ...                        1118   \n",
       "96-BQaIVOpc                             5  ...                          71   \n",
       "VgMPDnWunqs                             0  ...                          28   \n",
       "ANeq2VKPOak                             1  ...                          16   \n",
       "dB0h_50OfzA                             0  ...                          76   \n",
       "VDf1j4IQz28                             0  ...                          28   \n",
       "V5jQBYALy0g                             0  ...                          55   \n",
       "KIlI46HdqKg                             2  ...                          44   \n",
       "RCfU2KizzdM                             0  ...                          20   \n",
       "fveONZpDbiw                             0  ...                          16   \n",
       "\n",
       "             tweet_count_by_community_3  retweet_count_by_community_3  \\\n",
       "video_id                                                                \n",
       "psGpIuNh_dU                           0                            39   \n",
       "96-BQaIVOpc                           0                             9   \n",
       "VgMPDnWunqs                           0                             2   \n",
       "ANeq2VKPOak                           1                             0   \n",
       "dB0h_50OfzA                           0                             6   \n",
       "VDf1j4IQz28                           0                             0   \n",
       "V5jQBYALy0g                           0                             2   \n",
       "KIlI46HdqKg                           0                             2   \n",
       "RCfU2KizzdM                           4                             2   \n",
       "fveONZpDbiw                           0                             0   \n",
       "\n",
       "             quote_count_by_community_3  tweet_count_by_community_4  \\\n",
       "video_id                                                              \n",
       "psGpIuNh_dU                           5                           0   \n",
       "96-BQaIVOpc                           1                           0   \n",
       "VgMPDnWunqs                           0                           0   \n",
       "ANeq2VKPOak                           0                           0   \n",
       "dB0h_50OfzA                           0                           0   \n",
       "VDf1j4IQz28                           0                           0   \n",
       "V5jQBYALy0g                           2                           0   \n",
       "KIlI46HdqKg                           1                           0   \n",
       "RCfU2KizzdM                           0                           2   \n",
       "fveONZpDbiw                           0                           0   \n",
       "\n",
       "             retweet_count_by_community_4  quote_count_by_community_4  \\\n",
       "video_id                                                                \n",
       "psGpIuNh_dU                            50                           5   \n",
       "96-BQaIVOpc                             5                           0   \n",
       "VgMPDnWunqs                             3                           0   \n",
       "ANeq2VKPOak                             1                           0   \n",
       "dB0h_50OfzA                             7                           0   \n",
       "VDf1j4IQz28                             5                           1   \n",
       "V5jQBYALy0g                             1                           0   \n",
       "KIlI46HdqKg                             3                           0   \n",
       "RCfU2KizzdM                             3                           0   \n",
       "fveONZpDbiw                             0                           0   \n",
       "\n",
       "             tweet_count_by_suspended_users  retweet_count_by_suspended_users  \\\n",
       "video_id                                                                        \n",
       "psGpIuNh_dU                              34                              3527   \n",
       "96-BQaIVOpc                              31                               167   \n",
       "VgMPDnWunqs                              27                               235   \n",
       "ANeq2VKPOak                               8                               102   \n",
       "dB0h_50OfzA                               4                               391   \n",
       "VDf1j4IQz28                               9                               266   \n",
       "V5jQBYALy0g                               0                               109   \n",
       "KIlI46HdqKg                               1                               237   \n",
       "RCfU2KizzdM                              32                               149   \n",
       "fveONZpDbiw                               3                               153   \n",
       "\n",
       "             quote_count_by_suspended_users  \n",
       "video_id                                     \n",
       "psGpIuNh_dU                             401  \n",
       "96-BQaIVOpc                              23  \n",
       "VgMPDnWunqs                               8  \n",
       "ANeq2VKPOak                               6  \n",
       "dB0h_50OfzA                              21  \n",
       "VDf1j4IQz28                               6  \n",
       "V5jQBYALy0g                              16  \n",
       "KIlI46HdqKg                              12  \n",
       "RCfU2KizzdM                               5  \n",
       "fveONZpDbiw                               3  \n",
       "\n",
       "[10 rows x 26 columns]"
      ],
      "text/html": "<div>\n<style scoped>\n    .dataframe tbody tr th:only-of-type {\n        vertical-align: middle;\n    }\n\n    .dataframe tbody tr th {\n        vertical-align: top;\n    }\n\n    .dataframe thead th {\n        text-align: right;\n    }\n</style>\n<table border=\"1\" class=\"dataframe\">\n  <thead>\n    <tr style=\"text-align: right;\">\n      <th></th>\n      <th>video_title</th>\n      <th>video_description</th>\n      <th>channel_id</th>\n      <th>channel_title</th>\n      <th>published_at</th>\n      <th>tweet_count</th>\n      <th>retweet_count_metadata</th>\n      <th>quote_count_metadata</th>\n      <th>tweet_count_by_community_0</th>\n      <th>retweet_count_by_community_0</th>\n      <th>...</th>\n      <th>quote_count_by_community_2</th>\n      <th>tweet_count_by_community_3</th>\n      <th>retweet_count_by_community_3</th>\n      <th>quote_count_by_community_3</th>\n      <th>tweet_count_by_community_4</th>\n      <th>retweet_count_by_community_4</th>\n      <th>quote_count_by_community_4</th>\n      <th>tweet_count_by_suspended_users</th>\n      <th>retweet_count_by_suspended_users</th>\n      <th>quote_count_by_suspended_users</th>\n    </tr>\n    <tr>\n      <th>video_id</th>\n      <th></th>\n      <th></th>\n      <th></th>\n      <th></th>\n      <th></th>\n      <th></th>\n      <th></th>\n      <th></th>\n      <th></th>\n      <th></th>\n      <th></th>\n      <th></th>\n      <th></th>\n      <th></th>\n      <th></th>\n      <th></th>\n      <th></th>\n      <th></th>\n      <th></th>\n      <th></th>\n      <th></th>\n    </tr>\n  </thead>\n  <tbody>\n    <tr>\n      <th>psGpIuNh_dU</th>\n      <td>Articia Bomer Witnessed Dems Counting Spoiled ...</td>\n      <td>Articia Bomer Witnessed Dems Counting Spoiled ...</td>\n      <td>UCekdKDk6d8opUrUEXtXD4XQ</td>\n      <td>Precinct 13</td>\n      <td>2020-11-23T10:32:13Z</td>\n      <td>88</td>\n      <td>11909</td>\n      <td>1301</td>\n      <td>0</td>\n      <td>5</td>\n      <td>...</td>\n      <td>1118</td>\n      <td>0</td>\n      <td>39</td>\n      <td>5</td>\n      <td>0</td>\n      <td>50</td>\n      <td>5</td>\n      <td>34</td>\n      <td>3527</td>\n      <td>401</td>\n    </tr>\n    <tr>\n      <th>96-BQaIVOpc</th>\n      <td>LIVE UPDATES: Democrats Try to Steal Election!...</td>\n      <td>Steven reviews the latest updates in the 2020 ...</td>\n      <td>UCIveFvW-ARp_B_RckhweNJw</td>\n      <td>StevenCrowder</td>\n      <td>2020-11-04T22:49:00Z</td>\n      <td>333</td>\n      <td>4739</td>\n      <td>496</td>\n      <td>0</td>\n      <td>5</td>\n      <td>...</td>\n      <td>71</td>\n      <td>0</td>\n      <td>9</td>\n      <td>1</td>\n      <td>0</td>\n      <td>5</td>\n      <td>0</td>\n      <td>31</td>\n      <td>167</td>\n      <td>23</td>\n    </tr>\n    <tr>\n      <th>VgMPDnWunqs</th>\n      <td>AG Barr releases memo on election fraud, DOJ o...</td>\n      <td>The head of the Justice Department’s elections...</td>\n      <td>UCNbIDJNNgaRrXOD7VllIMRQ</td>\n      <td>One America News Network</td>\n      <td>2020-11-11T23:58:41Z</td>\n      <td>150</td>\n      <td>1605</td>\n      <td>100</td>\n      <td>1</td>\n      <td>0</td>\n      <td>...</td>\n      <td>28</td>\n      <td>0</td>\n      <td>2</td>\n      <td>0</td>\n      <td>0</td>\n      <td>3</td>\n      <td>0</td>\n      <td>27</td>\n      <td>235</td>\n      <td>8</td>\n    </tr>\n    <tr>\n      <th>ANeq2VKPOak</th>\n      <td>YOUNG PHARAOH INTERVIEWS JAMES OKEEFE- 2020 VO...</td>\n      <td>YOUNG PHARAOH INTERVIEWS JAMES OKEEFE IN REGAR...</td>\n      <td>UCtKtmiQ2GlWlqPDzXwrR4NA</td>\n      <td>YOUNG PHARAOH</td>\n      <td>2020-11-17T20:00:08Z</td>\n      <td>43</td>\n      <td>982</td>\n      <td>45</td>\n      <td>0</td>\n      <td>1</td>\n      <td>...</td>\n      <td>16</td>\n      <td>1</td>\n      <td>0</td>\n      <td>0</td>\n      <td>0</td>\n      <td>1</td>\n      <td>0</td>\n      <td>8</td>\n      <td>102</td>\n      <td>6</td>\n    </tr>\n    <tr>\n      <th>dB0h_50OfzA</th>\n      <td>Trump confidant: the president has all the pro...</td>\n      <td>Steve Mosher of the Population Research Instit...</td>\n      <td>UCYImiD9L0dMycenfBy2al0Q</td>\n      <td>LifeSiteNews</td>\n      <td>2020-11-13T22:14:18Z</td>\n      <td>27</td>\n      <td>937</td>\n      <td>72</td>\n      <td>0</td>\n      <td>0</td>\n      <td>...</td>\n      <td>76</td>\n      <td>0</td>\n      <td>6</td>\n      <td>0</td>\n      <td>0</td>\n      <td>7</td>\n      <td>0</td>\n      <td>4</td>\n      <td>391</td>\n      <td>21</td>\n    </tr>\n    <tr>\n      <th>VDf1j4IQz28</th>\n      <td>Bobby Piton testifies at AZ Election Fraud Hea...</td>\n      <td>Bobby Piton testifies at AZ Election Fraud Hea...</td>\n      <td>UCSKoabidZh5qoTF4Xg96K7A</td>\n      <td>Three Headed Eagle Alliance</td>\n      <td>2020-11-30T22:54:54Z</td>\n      <td>65</td>\n      <td>919</td>\n      <td>45</td>\n      <td>0</td>\n      <td>0</td>\n      <td>...</td>\n      <td>28</td>\n      <td>0</td>\n      <td>0</td>\n      <td>0</td>\n      <td>0</td>\n      <td>5</td>\n      <td>1</td>\n      <td>9</td>\n      <td>266</td>\n      <td>6</td>\n    </tr>\n    <tr>\n      <th>V5jQBYALy0g</th>\n      <td>11.8.20: LAWSUITS on the WAY! What is going on?</td>\n      <td>Get The Best VPN For 50% Off Today!\\nClick Her...</td>\n      <td>UCzkAzJ2vQgRyEDzHFiKOaQA</td>\n      <td>AWK NEWS</td>\n      <td>2020-11-08T14:34:16Z</td>\n      <td>3</td>\n      <td>808</td>\n      <td>133</td>\n      <td>0</td>\n      <td>0</td>\n      <td>...</td>\n      <td>55</td>\n      <td>0</td>\n      <td>2</td>\n      <td>2</td>\n      <td>0</td>\n      <td>1</td>\n      <td>0</td>\n      <td>0</td>\n      <td>109</td>\n      <td>16</td>\n    </tr>\n    <tr>\n      <th>KIlI46HdqKg</th>\n      <td>Smoking Gun: ES&amp;S (Philly's Computer System) T...</td>\n      <td>In this video you will see data from the NYT f...</td>\n      <td>UCIxc8YMkny2KBaD5TQsSbpg</td>\n      <td>Edward Solomon</td>\n      <td>2020-11-20T22:54:00Z</td>\n      <td>13</td>\n      <td>781</td>\n      <td>50</td>\n      <td>0</td>\n      <td>2</td>\n      <td>...</td>\n      <td>44</td>\n      <td>0</td>\n      <td>2</td>\n      <td>1</td>\n      <td>0</td>\n      <td>3</td>\n      <td>0</td>\n      <td>1</td>\n      <td>237</td>\n      <td>12</td>\n    </tr>\n    <tr>\n      <th>RCfU2KizzdM</th>\n      <td>LIVE: Arizona State Senate Judiciary Holds Hea...</td>\n      <td>LIVE: Arizona State Senate Holds Hearing on El...</td>\n      <td>UCHqC-yWZ1kri4YzwRSt6RGQ</td>\n      <td>Right Side Broadcasting Network</td>\n      <td>2020-12-14T22:54:38Z</td>\n      <td>148</td>\n      <td>756</td>\n      <td>36</td>\n      <td>1</td>\n      <td>0</td>\n      <td>...</td>\n      <td>20</td>\n      <td>4</td>\n      <td>2</td>\n      <td>0</td>\n      <td>2</td>\n      <td>3</td>\n      <td>0</td>\n      <td>32</td>\n      <td>149</td>\n      <td>5</td>\n    </tr>\n    <tr>\n      <th>fveONZpDbiw</th>\n      <td>Vernon Jones says Georgia’s election fraud cen...</td>\n      <td>John Solomon Reports: John Interviews Georgia ...</td>\n      <td>UC588htN7jqso3D80OnGGrAw</td>\n      <td>Just The News</td>\n      <td>2020-11-13T03:48:34Z</td>\n      <td>17</td>\n      <td>750</td>\n      <td>29</td>\n      <td>0</td>\n      <td>0</td>\n      <td>...</td>\n      <td>16</td>\n      <td>0</td>\n      <td>0</td>\n      <td>0</td>\n      <td>0</td>\n      <td>0</td>\n      <td>0</td>\n      <td>3</td>\n      <td>153</td>\n      <td>3</td>\n    </tr>\n  </tbody>\n</table>\n<p>10 rows × 26 columns</p>\n</div>"
     },
     "metadata": {},
     "execution_count": 88
    }
   ],
   "source": [
    "youtube_videos.nlargest(10, \"retweet_count_metadata\")"
   ]
  },
  {
   "source": [
    "## URLs"
   ],
   "cell_type": "markdown",
   "metadata": {}
  },
  {
   "cell_type": "code",
   "execution_count": 89,
   "metadata": {},
   "outputs": [
    {
     "output_type": "stream",
     "name": "stdout",
     "text": [
      "<class 'pandas.core.frame.DataFrame'>\nIndex: 138411 entries, https://www.foxnews.com/opinion/tucker-carlson-2020-presidential-election-voter-fraud-dead-voters.amp to https://www.americanthinker.com/blog/2020/11/project_veritas_reports_on_michigan_election_fraud.html#.X6Q6j0NCFro.twitter\nData columns (total 22 columns):\n #   Column                            Non-Null Count   Dtype \n---  ------                            --------------   ----- \n 0   domain                            138411 non-null  object\n 1   tweet_count                       138411 non-null  int64 \n 2   retweet_count_metadata            138411 non-null  int64 \n 3   quote_count_metadata              138411 non-null  int64 \n 4   tweet_count_by_community_0        138411 non-null  int64 \n 5   retweet_count_by_community_0      138411 non-null  int64 \n 6   quote_count_by_community_0        138411 non-null  int64 \n 7   tweet_count_by_community_1        138411 non-null  int64 \n 8   retweet_count_by_community_1      138411 non-null  int64 \n 9   quote_count_by_community_1        138411 non-null  int64 \n 10  tweet_count_by_community_2        138411 non-null  int64 \n 11  retweet_count_by_community_2      138411 non-null  int64 \n 12  quote_count_by_community_2        138411 non-null  int64 \n 13  tweet_count_by_community_3        138411 non-null  int64 \n 14  retweet_count_by_community_3      138411 non-null  int64 \n 15  quote_count_by_community_3        138411 non-null  int64 \n 16  tweet_count_by_community_4        138411 non-null  int64 \n 17  retweet_count_by_community_4      138411 non-null  int64 \n 18  quote_count_by_community_4        138411 non-null  int64 \n 19  tweet_count_by_suspended_users    138411 non-null  int64 \n 20  retweet_count_by_suspended_users  138411 non-null  int64 \n 21  quote_count_by_suspended_users    138411 non-null  int64 \ndtypes: int64(21), object(1)\nmemory usage: 24.3+ MB\n"
     ]
    }
   ],
   "source": [
    "urls = pd.read_csv(\"data/urls.csv\", index_col=\"url\")\n",
    "urls.info()"
   ]
  },
  {
   "cell_type": "code",
   "execution_count": 101,
   "metadata": {},
   "outputs": [
    {
     "output_type": "stream",
     "name": "stdout",
     "text": [
      "Number of urls 138,411\n"
     ]
    }
   ],
   "source": [
    "print(\"Number of urls {:,}\".format(urls.shape[0]))"
   ]
  },
  {
   "cell_type": "code",
   "execution_count": 91,
   "metadata": {},
   "outputs": [
    {
     "output_type": "execute_result",
     "data": {
      "text/plain": [
       "                                                                  domain  \\\n",
       "url                                                                        \n",
       "https://www.foxnews.com/opinion/tucker-carlson-...           foxnews.com   \n",
       "https://www.legislationline.org/download/id/147...   legislationline.org   \n",
       "https://www.houstonchronicle.com/politics/texas...  houstonchronicle.com   \n",
       "https://nypost.com/2020/11/11/usps-whistleblowe...            nypost.com   \n",
       "https://thetexan.news/limestone-county-individu...         thetexan.news   \n",
       "https://www.zerohedge.com/political/30-states-c...         zerohedge.com   \n",
       "https://www.nytimes.com/2012/10/07/us/politics/...           nytimes.com   \n",
       "https://www.youtube.com/watch?v=psGpIuNh_dU                  youtube.com   \n",
       "https://apnews.com/article/election-2020-joe-bi...            apnews.com   \n",
       "https://noqreport.com/2020/11/04/90-voter-turno...         noqreport.com   \n",
       "\n",
       "                                                    tweet_count  \\\n",
       "url                                                               \n",
       "https://www.foxnews.com/opinion/tucker-carlson-...          264   \n",
       "https://www.legislationline.org/download/id/147...          148   \n",
       "https://www.houstonchronicle.com/politics/texas...           56   \n",
       "https://nypost.com/2020/11/11/usps-whistleblowe...           85   \n",
       "https://thetexan.news/limestone-county-individu...          280   \n",
       "https://www.zerohedge.com/political/30-states-c...           16   \n",
       "https://www.nytimes.com/2012/10/07/us/politics/...          105   \n",
       "https://www.youtube.com/watch?v=psGpIuNh_dU                   8   \n",
       "https://apnews.com/article/election-2020-joe-bi...            1   \n",
       "https://noqreport.com/2020/11/04/90-voter-turno...          257   \n",
       "\n",
       "                                                    retweet_count_metadata  \\\n",
       "url                                                                          \n",
       "https://www.foxnews.com/opinion/tucker-carlson-...                   41078   \n",
       "https://www.legislationline.org/download/id/147...                   19221   \n",
       "https://www.houstonchronicle.com/politics/texas...                   16627   \n",
       "https://nypost.com/2020/11/11/usps-whistleblowe...                   15297   \n",
       "https://thetexan.news/limestone-county-individu...                   14525   \n",
       "https://www.zerohedge.com/political/30-states-c...                   13906   \n",
       "https://www.nytimes.com/2012/10/07/us/politics/...                   12193   \n",
       "https://www.youtube.com/watch?v=psGpIuNh_dU                          11827   \n",
       "https://apnews.com/article/election-2020-joe-bi...                   11313   \n",
       "https://noqreport.com/2020/11/04/90-voter-turno...                   11036   \n",
       "\n",
       "                                                    quote_count_metadata  \\\n",
       "url                                                                        \n",
       "https://www.foxnews.com/opinion/tucker-carlson-...                  6543   \n",
       "https://www.legislationline.org/download/id/147...                  1973   \n",
       "https://www.houstonchronicle.com/politics/texas...                  2602   \n",
       "https://nypost.com/2020/11/11/usps-whistleblowe...                   983   \n",
       "https://thetexan.news/limestone-county-individu...                  1459   \n",
       "https://www.zerohedge.com/political/30-states-c...                  1689   \n",
       "https://www.nytimes.com/2012/10/07/us/politics/...                   834   \n",
       "https://www.youtube.com/watch?v=psGpIuNh_dU                         1288   \n",
       "https://apnews.com/article/election-2020-joe-bi...                  1504   \n",
       "https://noqreport.com/2020/11/04/90-voter-turno...                  1329   \n",
       "\n",
       "                                                    tweet_count_by_community_0  \\\n",
       "url                                                                              \n",
       "https://www.foxnews.com/opinion/tucker-carlson-...                          14   \n",
       "https://www.legislationline.org/download/id/147...                           0   \n",
       "https://www.houstonchronicle.com/politics/texas...                          13   \n",
       "https://nypost.com/2020/11/11/usps-whistleblowe...                           3   \n",
       "https://thetexan.news/limestone-county-individu...                           2   \n",
       "https://www.zerohedge.com/political/30-states-c...                           0   \n",
       "https://www.nytimes.com/2012/10/07/us/politics/...                           1   \n",
       "https://www.youtube.com/watch?v=psGpIuNh_dU                                  0   \n",
       "https://apnews.com/article/election-2020-joe-bi...                           0   \n",
       "https://noqreport.com/2020/11/04/90-voter-turno...                           0   \n",
       "\n",
       "                                                    retweet_count_by_community_0  \\\n",
       "url                                                                                \n",
       "https://www.foxnews.com/opinion/tucker-carlson-...                            61   \n",
       "https://www.legislationline.org/download/id/147...                            24   \n",
       "https://www.houstonchronicle.com/politics/texas...                           103   \n",
       "https://nypost.com/2020/11/11/usps-whistleblowe...                            13   \n",
       "https://thetexan.news/limestone-county-individu...                            13   \n",
       "https://www.zerohedge.com/political/30-states-c...                             7   \n",
       "https://www.nytimes.com/2012/10/07/us/politics/...                            24   \n",
       "https://www.youtube.com/watch?v=psGpIuNh_dU                                    5   \n",
       "https://apnews.com/article/election-2020-joe-bi...                             4   \n",
       "https://noqreport.com/2020/11/04/90-voter-turno...                            17   \n",
       "\n",
       "                                                    quote_count_by_community_0  \\\n",
       "url                                                                              \n",
       "https://www.foxnews.com/opinion/tucker-carlson-...                         401   \n",
       "https://www.legislationline.org/download/id/147...                          92   \n",
       "https://www.houstonchronicle.com/politics/texas...                         272   \n",
       "https://nypost.com/2020/11/11/usps-whistleblowe...                          23   \n",
       "https://thetexan.news/limestone-county-individu...                          21   \n",
       "https://www.zerohedge.com/political/30-states-c...                           1   \n",
       "https://www.nytimes.com/2012/10/07/us/politics/...                          14   \n",
       "https://www.youtube.com/watch?v=psGpIuNh_dU                                  4   \n",
       "https://apnews.com/article/election-2020-joe-bi...                           5   \n",
       "https://noqreport.com/2020/11/04/90-voter-turno...                           3   \n",
       "\n",
       "                                                    tweet_count_by_community_1  \\\n",
       "url                                                                              \n",
       "https://www.foxnews.com/opinion/tucker-carlson-...                          27   \n",
       "https://www.legislationline.org/download/id/147...                          30   \n",
       "https://www.houstonchronicle.com/politics/texas...                           8   \n",
       "https://nypost.com/2020/11/11/usps-whistleblowe...                          11   \n",
       "https://thetexan.news/limestone-county-individu...                          41   \n",
       "https://www.zerohedge.com/political/30-states-c...                           2   \n",
       "https://www.nytimes.com/2012/10/07/us/politics/...                          24   \n",
       "https://www.youtube.com/watch?v=psGpIuNh_dU                                  3   \n",
       "https://apnews.com/article/election-2020-joe-bi...                           1   \n",
       "https://noqreport.com/2020/11/04/90-voter-turno...                          31   \n",
       "\n",
       "                                                    retweet_count_by_community_1  \\\n",
       "url                                                                                \n",
       "https://www.foxnews.com/opinion/tucker-carlson-...                          3250   \n",
       "https://www.legislationline.org/download/id/147...                          2021   \n",
       "https://www.houstonchronicle.com/politics/texas...                          1037   \n",
       "https://nypost.com/2020/11/11/usps-whistleblowe...                           648   \n",
       "https://thetexan.news/limestone-county-individu...                          1368   \n",
       "https://www.zerohedge.com/political/30-states-c...                           487   \n",
       "https://www.nytimes.com/2012/10/07/us/politics/...                          1205   \n",
       "https://www.youtube.com/watch?v=psGpIuNh_dU                                  544   \n",
       "https://apnews.com/article/election-2020-joe-bi...                           304   \n",
       "https://noqreport.com/2020/11/04/90-voter-turno...                           437   \n",
       "\n",
       "                                                    quote_count_by_community_1  \\\n",
       "url                                                                              \n",
       "https://www.foxnews.com/opinion/tucker-carlson-...                         264   \n",
       "https://www.legislationline.org/download/id/147...                         161   \n",
       "https://www.houstonchronicle.com/politics/texas...                          77   \n",
       "https://nypost.com/2020/11/11/usps-whistleblowe...                          36   \n",
       "https://thetexan.news/limestone-county-individu...                         109   \n",
       "https://www.zerohedge.com/political/30-states-c...                          80   \n",
       "https://www.nytimes.com/2012/10/07/us/politics/...                          92   \n",
       "https://www.youtube.com/watch?v=psGpIuNh_dU                                146   \n",
       "https://apnews.com/article/election-2020-joe-bi...                          67   \n",
       "https://noqreport.com/2020/11/04/90-voter-turno...                          54   \n",
       "\n",
       "                                                    ...  \\\n",
       "url                                                 ...   \n",
       "https://www.foxnews.com/opinion/tucker-carlson-...  ...   \n",
       "https://www.legislationline.org/download/id/147...  ...   \n",
       "https://www.houstonchronicle.com/politics/texas...  ...   \n",
       "https://nypost.com/2020/11/11/usps-whistleblowe...  ...   \n",
       "https://thetexan.news/limestone-county-individu...  ...   \n",
       "https://www.zerohedge.com/political/30-states-c...  ...   \n",
       "https://www.nytimes.com/2012/10/07/us/politics/...  ...   \n",
       "https://www.youtube.com/watch?v=psGpIuNh_dU         ...   \n",
       "https://apnews.com/article/election-2020-joe-bi...  ...   \n",
       "https://noqreport.com/2020/11/04/90-voter-turno...  ...   \n",
       "\n",
       "                                                    quote_count_by_community_2  \\\n",
       "url                                                                              \n",
       "https://www.foxnews.com/opinion/tucker-carlson-...                         966   \n",
       "https://www.legislationline.org/download/id/147...                         509   \n",
       "https://www.houstonchronicle.com/politics/texas...                         345   \n",
       "https://nypost.com/2020/11/11/usps-whistleblowe...                         224   \n",
       "https://thetexan.news/limestone-county-individu...                         419   \n",
       "https://www.zerohedge.com/political/30-states-c...                         526   \n",
       "https://www.nytimes.com/2012/10/07/us/politics/...                         464   \n",
       "https://www.youtube.com/watch?v=psGpIuNh_dU                               1109   \n",
       "https://apnews.com/article/election-2020-joe-bi...                         415   \n",
       "https://noqreport.com/2020/11/04/90-voter-turno...                         427   \n",
       "\n",
       "                                                    tweet_count_by_community_3  \\\n",
       "url                                                                              \n",
       "https://www.foxnews.com/opinion/tucker-carlson-...                           4   \n",
       "https://www.legislationline.org/download/id/147...                           0   \n",
       "https://www.houstonchronicle.com/politics/texas...                           3   \n",
       "https://nypost.com/2020/11/11/usps-whistleblowe...                           0   \n",
       "https://thetexan.news/limestone-county-individu...                           0   \n",
       "https://www.zerohedge.com/political/30-states-c...                           0   \n",
       "https://www.nytimes.com/2012/10/07/us/politics/...                           2   \n",
       "https://www.youtube.com/watch?v=psGpIuNh_dU                                  0   \n",
       "https://apnews.com/article/election-2020-joe-bi...                           0   \n",
       "https://noqreport.com/2020/11/04/90-voter-turno...                           4   \n",
       "\n",
       "                                                    retweet_count_by_community_3  \\\n",
       "url                                                                                \n",
       "https://www.foxnews.com/opinion/tucker-carlson-...                           345   \n",
       "https://www.legislationline.org/download/id/147...                            25   \n",
       "https://www.houstonchronicle.com/politics/texas...                            74   \n",
       "https://nypost.com/2020/11/11/usps-whistleblowe...                            35   \n",
       "https://thetexan.news/limestone-county-individu...                            17   \n",
       "https://www.zerohedge.com/political/30-states-c...                            13   \n",
       "https://www.nytimes.com/2012/10/07/us/politics/...                            66   \n",
       "https://www.youtube.com/watch?v=psGpIuNh_dU                                   39   \n",
       "https://apnews.com/article/election-2020-joe-bi...                             6   \n",
       "https://noqreport.com/2020/11/04/90-voter-turno...                             5   \n",
       "\n",
       "                                                    quote_count_by_community_3  \\\n",
       "url                                                                              \n",
       "https://www.foxnews.com/opinion/tucker-carlson-...                          39   \n",
       "https://www.legislationline.org/download/id/147...                           2   \n",
       "https://www.houstonchronicle.com/politics/texas...                          15   \n",
       "https://nypost.com/2020/11/11/usps-whistleblowe...                           1   \n",
       "https://thetexan.news/limestone-county-individu...                           3   \n",
       "https://www.zerohedge.com/political/30-states-c...                           2   \n",
       "https://www.nytimes.com/2012/10/07/us/politics/...                           8   \n",
       "https://www.youtube.com/watch?v=psGpIuNh_dU                                  5   \n",
       "https://apnews.com/article/election-2020-joe-bi...                           1   \n",
       "https://noqreport.com/2020/11/04/90-voter-turno...                           4   \n",
       "\n",
       "                                                    tweet_count_by_community_4  \\\n",
       "url                                                                              \n",
       "https://www.foxnews.com/opinion/tucker-carlson-...                           8   \n",
       "https://www.legislationline.org/download/id/147...                           0   \n",
       "https://www.houstonchronicle.com/politics/texas...                           0   \n",
       "https://nypost.com/2020/11/11/usps-whistleblowe...                           0   \n",
       "https://thetexan.news/limestone-county-individu...                           1   \n",
       "https://www.zerohedge.com/political/30-states-c...                           0   \n",
       "https://www.nytimes.com/2012/10/07/us/politics/...                           0   \n",
       "https://www.youtube.com/watch?v=psGpIuNh_dU                                  0   \n",
       "https://apnews.com/article/election-2020-joe-bi...                           0   \n",
       "https://noqreport.com/2020/11/04/90-voter-turno...                           2   \n",
       "\n",
       "                                                    retweet_count_by_community_4  \\\n",
       "url                                                                                \n",
       "https://www.foxnews.com/opinion/tucker-carlson-...                           483   \n",
       "https://www.legislationline.org/download/id/147...                           119   \n",
       "https://www.houstonchronicle.com/politics/texas...                            67   \n",
       "https://nypost.com/2020/11/11/usps-whistleblowe...                            41   \n",
       "https://thetexan.news/limestone-county-individu...                           102   \n",
       "https://www.zerohedge.com/political/30-states-c...                            19   \n",
       "https://www.nytimes.com/2012/10/07/us/politics/...                            87   \n",
       "https://www.youtube.com/watch?v=psGpIuNh_dU                                   50   \n",
       "https://apnews.com/article/election-2020-joe-bi...                             8   \n",
       "https://noqreport.com/2020/11/04/90-voter-turno...                            13   \n",
       "\n",
       "                                                    quote_count_by_community_4  \\\n",
       "url                                                                              \n",
       "https://www.foxnews.com/opinion/tucker-carlson-...                          34   \n",
       "https://www.legislationline.org/download/id/147...                           8   \n",
       "https://www.houstonchronicle.com/politics/texas...                           4   \n",
       "https://nypost.com/2020/11/11/usps-whistleblowe...                           1   \n",
       "https://thetexan.news/limestone-county-individu...                           6   \n",
       "https://www.zerohedge.com/political/30-states-c...                           3   \n",
       "https://www.nytimes.com/2012/10/07/us/politics/...                           3   \n",
       "https://www.youtube.com/watch?v=psGpIuNh_dU                                  5   \n",
       "https://apnews.com/article/election-2020-joe-bi...                           0   \n",
       "https://noqreport.com/2020/11/04/90-voter-turno...                           3   \n",
       "\n",
       "                                                    tweet_count_by_suspended_users  \\\n",
       "url                                                                                  \n",
       "https://www.foxnews.com/opinion/tucker-carlson-...                              62   \n",
       "https://www.legislationline.org/download/id/147...                              26   \n",
       "https://www.houstonchronicle.com/politics/texas...                               3   \n",
       "https://nypost.com/2020/11/11/usps-whistleblowe...                              12   \n",
       "https://thetexan.news/limestone-county-individu...                              30   \n",
       "https://www.zerohedge.com/political/30-states-c...                               3   \n",
       "https://www.nytimes.com/2012/10/07/us/politics/...                              13   \n",
       "https://www.youtube.com/watch?v=psGpIuNh_dU                                      2   \n",
       "https://apnews.com/article/election-2020-joe-bi...                               1   \n",
       "https://noqreport.com/2020/11/04/90-voter-turno...                              42   \n",
       "\n",
       "                                                    retweet_count_by_suspended_users  \\\n",
       "url                                                                                    \n",
       "https://www.foxnews.com/opinion/tucker-carlson-...                              2555   \n",
       "https://www.legislationline.org/download/id/147...                              1793   \n",
       "https://www.houstonchronicle.com/politics/texas...                              1425   \n",
       "https://nypost.com/2020/11/11/usps-whistleblowe...                              1124   \n",
       "https://thetexan.news/limestone-county-individu...                              1385   \n",
       "https://www.zerohedge.com/political/30-states-c...                              1363   \n",
       "https://www.nytimes.com/2012/10/07/us/politics/...                              2562   \n",
       "https://www.youtube.com/watch?v=psGpIuNh_dU                                     3505   \n",
       "https://apnews.com/article/election-2020-joe-bi...                              1086   \n",
       "https://noqreport.com/2020/11/04/90-voter-turno...                               746   \n",
       "\n",
       "                                                    quote_count_by_suspended_users  \n",
       "url                                                                                 \n",
       "https://www.foxnews.com/opinion/tucker-carlson-...                             305  \n",
       "https://www.legislationline.org/download/id/147...                             139  \n",
       "https://www.houstonchronicle.com/politics/texas...                             106  \n",
       "https://nypost.com/2020/11/11/usps-whistleblowe...                              69  \n",
       "https://thetexan.news/limestone-county-individu...                             138  \n",
       "https://www.zerohedge.com/political/30-states-c...                             198  \n",
       "https://www.nytimes.com/2012/10/07/us/politics/...                             143  \n",
       "https://www.youtube.com/watch?v=psGpIuNh_dU                                    398  \n",
       "https://apnews.com/article/election-2020-joe-bi...                             151  \n",
       "https://noqreport.com/2020/11/04/90-voter-turno...                             111  \n",
       "\n",
       "[10 rows x 22 columns]"
      ],
      "text/html": "<div>\n<style scoped>\n    .dataframe tbody tr th:only-of-type {\n        vertical-align: middle;\n    }\n\n    .dataframe tbody tr th {\n        vertical-align: top;\n    }\n\n    .dataframe thead th {\n        text-align: right;\n    }\n</style>\n<table border=\"1\" class=\"dataframe\">\n  <thead>\n    <tr style=\"text-align: right;\">\n      <th></th>\n      <th>domain</th>\n      <th>tweet_count</th>\n      <th>retweet_count_metadata</th>\n      <th>quote_count_metadata</th>\n      <th>tweet_count_by_community_0</th>\n      <th>retweet_count_by_community_0</th>\n      <th>quote_count_by_community_0</th>\n      <th>tweet_count_by_community_1</th>\n      <th>retweet_count_by_community_1</th>\n      <th>quote_count_by_community_1</th>\n      <th>...</th>\n      <th>quote_count_by_community_2</th>\n      <th>tweet_count_by_community_3</th>\n      <th>retweet_count_by_community_3</th>\n      <th>quote_count_by_community_3</th>\n      <th>tweet_count_by_community_4</th>\n      <th>retweet_count_by_community_4</th>\n      <th>quote_count_by_community_4</th>\n      <th>tweet_count_by_suspended_users</th>\n      <th>retweet_count_by_suspended_users</th>\n      <th>quote_count_by_suspended_users</th>\n    </tr>\n    <tr>\n      <th>url</th>\n      <th></th>\n      <th></th>\n      <th></th>\n      <th></th>\n      <th></th>\n      <th></th>\n      <th></th>\n      <th></th>\n      <th></th>\n      <th></th>\n      <th></th>\n      <th></th>\n      <th></th>\n      <th></th>\n      <th></th>\n      <th></th>\n      <th></th>\n      <th></th>\n      <th></th>\n      <th></th>\n      <th></th>\n    </tr>\n  </thead>\n  <tbody>\n    <tr>\n      <th>https://www.foxnews.com/opinion/tucker-carlson-2020-presidential-election-voter-fraud-dead-voters.amp</th>\n      <td>foxnews.com</td>\n      <td>264</td>\n      <td>41078</td>\n      <td>6543</td>\n      <td>14</td>\n      <td>61</td>\n      <td>401</td>\n      <td>27</td>\n      <td>3250</td>\n      <td>264</td>\n      <td>...</td>\n      <td>966</td>\n      <td>4</td>\n      <td>345</td>\n      <td>39</td>\n      <td>8</td>\n      <td>483</td>\n      <td>34</td>\n      <td>62</td>\n      <td>2555</td>\n      <td>305</td>\n    </tr>\n    <tr>\n      <th>https://www.legislationline.org/download/id/1472/file/3b50795b2d0374cbef5c29766256.pdf</th>\n      <td>legislationline.org</td>\n      <td>148</td>\n      <td>19221</td>\n      <td>1973</td>\n      <td>0</td>\n      <td>24</td>\n      <td>92</td>\n      <td>30</td>\n      <td>2021</td>\n      <td>161</td>\n      <td>...</td>\n      <td>509</td>\n      <td>0</td>\n      <td>25</td>\n      <td>2</td>\n      <td>0</td>\n      <td>119</td>\n      <td>8</td>\n      <td>26</td>\n      <td>1793</td>\n      <td>139</td>\n    </tr>\n    <tr>\n      <th>https://www.houstonchronicle.com/politics/texas/article/Texas-Lt-Gov-Dan-Patrick-offers-1-million-15716973.php?utm_campaign=CMS%20Sharing%20Tools%20(Premium)&amp;utm_source=t.co&amp;utm_medium=referral</th>\n      <td>houstonchronicle.com</td>\n      <td>56</td>\n      <td>16627</td>\n      <td>2602</td>\n      <td>13</td>\n      <td>103</td>\n      <td>272</td>\n      <td>8</td>\n      <td>1037</td>\n      <td>77</td>\n      <td>...</td>\n      <td>345</td>\n      <td>3</td>\n      <td>74</td>\n      <td>15</td>\n      <td>0</td>\n      <td>67</td>\n      <td>4</td>\n      <td>3</td>\n      <td>1425</td>\n      <td>106</td>\n    </tr>\n    <tr>\n      <th>https://nypost.com/2020/11/11/usps-whistleblower-denies-wapo-claim-he-recanted-allegations/?utm_source=twitter_sitebuttons&amp;utm_medium=site%20buttons&amp;utm_campaign=site%20buttons</th>\n      <td>nypost.com</td>\n      <td>85</td>\n      <td>15297</td>\n      <td>983</td>\n      <td>3</td>\n      <td>13</td>\n      <td>23</td>\n      <td>11</td>\n      <td>648</td>\n      <td>36</td>\n      <td>...</td>\n      <td>224</td>\n      <td>0</td>\n      <td>35</td>\n      <td>1</td>\n      <td>0</td>\n      <td>41</td>\n      <td>1</td>\n      <td>12</td>\n      <td>1124</td>\n      <td>69</td>\n    </tr>\n    <tr>\n      <th>https://thetexan.news/limestone-county-individual-charged-with-134-counts-of-voter-fraud-attorney-general-announces/</th>\n      <td>thetexan.news</td>\n      <td>280</td>\n      <td>14525</td>\n      <td>1459</td>\n      <td>2</td>\n      <td>13</td>\n      <td>21</td>\n      <td>41</td>\n      <td>1368</td>\n      <td>109</td>\n      <td>...</td>\n      <td>419</td>\n      <td>0</td>\n      <td>17</td>\n      <td>3</td>\n      <td>1</td>\n      <td>102</td>\n      <td>6</td>\n      <td>30</td>\n      <td>1385</td>\n      <td>138</td>\n    </tr>\n    <tr>\n      <th>https://www.zerohedge.com/political/30-states-computer-system-known-be-defective-tallying-votes</th>\n      <td>zerohedge.com</td>\n      <td>16</td>\n      <td>13906</td>\n      <td>1689</td>\n      <td>0</td>\n      <td>7</td>\n      <td>1</td>\n      <td>2</td>\n      <td>487</td>\n      <td>80</td>\n      <td>...</td>\n      <td>526</td>\n      <td>0</td>\n      <td>13</td>\n      <td>2</td>\n      <td>0</td>\n      <td>19</td>\n      <td>3</td>\n      <td>3</td>\n      <td>1363</td>\n      <td>198</td>\n    </tr>\n    <tr>\n      <th>https://www.nytimes.com/2012/10/07/us/politics/as-more-vote-by-mail-faulty-ballots-could-impact-elections.html</th>\n      <td>nytimes.com</td>\n      <td>105</td>\n      <td>12193</td>\n      <td>834</td>\n      <td>1</td>\n      <td>24</td>\n      <td>14</td>\n      <td>24</td>\n      <td>1205</td>\n      <td>92</td>\n      <td>...</td>\n      <td>464</td>\n      <td>2</td>\n      <td>66</td>\n      <td>8</td>\n      <td>0</td>\n      <td>87</td>\n      <td>3</td>\n      <td>13</td>\n      <td>2562</td>\n      <td>143</td>\n    </tr>\n    <tr>\n      <th>https://www.youtube.com/watch?v=psGpIuNh_dU</th>\n      <td>youtube.com</td>\n      <td>8</td>\n      <td>11827</td>\n      <td>1288</td>\n      <td>0</td>\n      <td>5</td>\n      <td>4</td>\n      <td>3</td>\n      <td>544</td>\n      <td>146</td>\n      <td>...</td>\n      <td>1109</td>\n      <td>0</td>\n      <td>39</td>\n      <td>5</td>\n      <td>0</td>\n      <td>50</td>\n      <td>5</td>\n      <td>2</td>\n      <td>3505</td>\n      <td>398</td>\n    </tr>\n    <tr>\n      <th>https://apnews.com/article/election-2020-joe-biden-donald-trump-elections-c809d17b5cd34048e1a5e9bbb4b73cb7</th>\n      <td>apnews.com</td>\n      <td>1</td>\n      <td>11313</td>\n      <td>1504</td>\n      <td>0</td>\n      <td>4</td>\n      <td>5</td>\n      <td>1</td>\n      <td>304</td>\n      <td>67</td>\n      <td>...</td>\n      <td>415</td>\n      <td>0</td>\n      <td>6</td>\n      <td>1</td>\n      <td>0</td>\n      <td>8</td>\n      <td>0</td>\n      <td>1</td>\n      <td>1086</td>\n      <td>151</td>\n    </tr>\n    <tr>\n      <th>https://noqreport.com/2020/11/04/90-voter-turnout-in-wisconsin-is-impossible-without-voter-fraud-as-seven-milwaukee-districts-report-higher-than-100/</th>\n      <td>noqreport.com</td>\n      <td>257</td>\n      <td>11036</td>\n      <td>1329</td>\n      <td>0</td>\n      <td>17</td>\n      <td>3</td>\n      <td>31</td>\n      <td>437</td>\n      <td>54</td>\n      <td>...</td>\n      <td>427</td>\n      <td>4</td>\n      <td>5</td>\n      <td>4</td>\n      <td>2</td>\n      <td>13</td>\n      <td>3</td>\n      <td>42</td>\n      <td>746</td>\n      <td>111</td>\n    </tr>\n  </tbody>\n</table>\n<p>10 rows × 22 columns</p>\n</div>"
     },
     "metadata": {},
     "execution_count": 91
    }
   ],
   "source": [
    "urls.nlargest(10, \"retweet_count_metadata\")"
   ]
  }
 ]
}